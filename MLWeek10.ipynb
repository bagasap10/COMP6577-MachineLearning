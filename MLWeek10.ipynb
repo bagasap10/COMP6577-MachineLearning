{
  "nbformat": 4,
  "nbformat_minor": 0,
  "metadata": {
    "colab": {
      "name": "MLWeek10",
      "provenance": [],
      "collapsed_sections": [],
      "authorship_tag": "ABX9TyOCSxqEJycMzUtPxRH9Vht2",
      "include_colab_link": true
    },
    "kernelspec": {
      "name": "python3",
      "display_name": "Python 3"
    },
    "language_info": {
      "name": "python"
    }
  },
  "cells": [
    {
      "cell_type": "markdown",
      "metadata": {
        "id": "view-in-github",
        "colab_type": "text"
      },
      "source": [
        "<a href=\"https://colab.research.google.com/github/bagasap10/COMP6577-MachineLearning/blob/main/MLWeek10.ipynb\" target=\"_parent\"><img src=\"https://colab.research.google.com/assets/colab-badge.svg\" alt=\"Open In Colab\"/></a>"
      ]
    },
    {
      "cell_type": "code",
      "metadata": {
        "id": "s0bmqpXYpbmp"
      },
      "source": [
        "import pandas as pd\n",
        "import numpy as np\n",
        "import seaborn as sns\n",
        "import matplotlib.pyplot as plt\n",
        "from sklearn.neighbors import KNeighborsClassifier\n",
        "from sklearn.metrics import accuracy_score, mean_squared_error, mean_absolute_error\n",
        "from sklearn import preprocessing\n",
        "from sklearn import metrics\n",
        "from sklearn.model_selection import train_test_split"
      ],
      "execution_count": 12,
      "outputs": []
    },
    {
      "cell_type": "code",
      "metadata": {
        "id": "PUK09iujpP83",
        "colab": {
          "base_uri": "https://localhost:8080/"
        },
        "outputId": "2b6efaa2-9cc4-42f5-816c-8df5241c6149"
      },
      "source": [
        "!wget https://gist.githubusercontent.com/curran/a08a1080b88344b0c8a7/raw/0e7a9b0a5d22642a06d3d5b9bcbad9890c8ee534/iris.csv"
      ],
      "execution_count": 2,
      "outputs": [
        {
          "output_type": "stream",
          "text": [
            "--2021-06-02 07:00:43--  https://gist.githubusercontent.com/curran/a08a1080b88344b0c8a7/raw/0e7a9b0a5d22642a06d3d5b9bcbad9890c8ee534/iris.csv\n",
            "Resolving gist.githubusercontent.com (gist.githubusercontent.com)... 185.199.108.133, 185.199.109.133, 185.199.110.133, ...\n",
            "Connecting to gist.githubusercontent.com (gist.githubusercontent.com)|185.199.108.133|:443... connected.\n",
            "HTTP request sent, awaiting response... 200 OK\n",
            "Length: 3858 (3.8K) [text/plain]\n",
            "Saving to: ‘iris.csv’\n",
            "\n",
            "iris.csv            100%[===================>]   3.77K  --.-KB/s    in 0s      \n",
            "\n",
            "2021-06-02 07:00:43 (56.7 MB/s) - ‘iris.csv’ saved [3858/3858]\n",
            "\n"
          ],
          "name": "stdout"
        }
      ]
    },
    {
      "cell_type": "code",
      "metadata": {
        "id": "NRFwJETq4Ubm",
        "colab": {
          "base_uri": "https://localhost:8080/"
        },
        "outputId": "6d3ad22a-4da7-485d-c314-140cd7f38a53"
      },
      "source": [
        "dataIris = pd.read_csv(\"iris.csv\")\n",
        "\n",
        "for i in dataIris:\n",
        "  print(i, dataIris[i].dtypes)\n",
        "  if dataIris[i].isna().values.any() and dataIris[i].dtypes != object:\n",
        "      dataIris[i] = dataIris[i].fillna(dataIris[i].mean())\n"
      ],
      "execution_count": 5,
      "outputs": [
        {
          "output_type": "stream",
          "text": [
            "sepal_length float64\n",
            "sepal_width float64\n",
            "petal_length float64\n",
            "petal_width float64\n",
            "species object\n"
          ],
          "name": "stdout"
        }
      ]
    },
    {
      "cell_type": "code",
      "metadata": {
        "colab": {
          "base_uri": "https://localhost:8080/",
          "height": 399
        },
        "id": "VvWz8Cyrhg_p",
        "outputId": "fc31979f-1f93-4bfb-eb2c-408100cde243"
      },
      "source": [
        "dataIris"
      ],
      "execution_count": 4,
      "outputs": [
        {
          "output_type": "execute_result",
          "data": {
            "text/html": [
              "<div>\n",
              "<style scoped>\n",
              "    .dataframe tbody tr th:only-of-type {\n",
              "        vertical-align: middle;\n",
              "    }\n",
              "\n",
              "    .dataframe tbody tr th {\n",
              "        vertical-align: top;\n",
              "    }\n",
              "\n",
              "    .dataframe thead th {\n",
              "        text-align: right;\n",
              "    }\n",
              "</style>\n",
              "<table border=\"1\" class=\"dataframe\">\n",
              "  <thead>\n",
              "    <tr style=\"text-align: right;\">\n",
              "      <th></th>\n",
              "      <th>sepal_length</th>\n",
              "      <th>sepal_width</th>\n",
              "      <th>petal_length</th>\n",
              "      <th>petal_width</th>\n",
              "      <th>species</th>\n",
              "    </tr>\n",
              "  </thead>\n",
              "  <tbody>\n",
              "    <tr>\n",
              "      <th>0</th>\n",
              "      <td>5.1</td>\n",
              "      <td>3.5</td>\n",
              "      <td>1.4</td>\n",
              "      <td>0.2</td>\n",
              "      <td>setosa</td>\n",
              "    </tr>\n",
              "    <tr>\n",
              "      <th>1</th>\n",
              "      <td>4.9</td>\n",
              "      <td>3.0</td>\n",
              "      <td>1.4</td>\n",
              "      <td>0.2</td>\n",
              "      <td>setosa</td>\n",
              "    </tr>\n",
              "    <tr>\n",
              "      <th>2</th>\n",
              "      <td>4.7</td>\n",
              "      <td>3.2</td>\n",
              "      <td>1.3</td>\n",
              "      <td>0.2</td>\n",
              "      <td>setosa</td>\n",
              "    </tr>\n",
              "    <tr>\n",
              "      <th>3</th>\n",
              "      <td>4.6</td>\n",
              "      <td>3.1</td>\n",
              "      <td>1.5</td>\n",
              "      <td>0.2</td>\n",
              "      <td>setosa</td>\n",
              "    </tr>\n",
              "    <tr>\n",
              "      <th>4</th>\n",
              "      <td>5.0</td>\n",
              "      <td>3.6</td>\n",
              "      <td>1.4</td>\n",
              "      <td>0.2</td>\n",
              "      <td>setosa</td>\n",
              "    </tr>\n",
              "    <tr>\n",
              "      <th>...</th>\n",
              "      <td>...</td>\n",
              "      <td>...</td>\n",
              "      <td>...</td>\n",
              "      <td>...</td>\n",
              "      <td>...</td>\n",
              "    </tr>\n",
              "    <tr>\n",
              "      <th>145</th>\n",
              "      <td>6.7</td>\n",
              "      <td>3.0</td>\n",
              "      <td>5.2</td>\n",
              "      <td>2.3</td>\n",
              "      <td>virginica</td>\n",
              "    </tr>\n",
              "    <tr>\n",
              "      <th>146</th>\n",
              "      <td>6.3</td>\n",
              "      <td>2.5</td>\n",
              "      <td>5.0</td>\n",
              "      <td>1.9</td>\n",
              "      <td>virginica</td>\n",
              "    </tr>\n",
              "    <tr>\n",
              "      <th>147</th>\n",
              "      <td>6.5</td>\n",
              "      <td>3.0</td>\n",
              "      <td>5.2</td>\n",
              "      <td>2.0</td>\n",
              "      <td>virginica</td>\n",
              "    </tr>\n",
              "    <tr>\n",
              "      <th>148</th>\n",
              "      <td>6.2</td>\n",
              "      <td>3.4</td>\n",
              "      <td>5.4</td>\n",
              "      <td>2.3</td>\n",
              "      <td>virginica</td>\n",
              "    </tr>\n",
              "    <tr>\n",
              "      <th>149</th>\n",
              "      <td>5.9</td>\n",
              "      <td>3.0</td>\n",
              "      <td>5.1</td>\n",
              "      <td>1.8</td>\n",
              "      <td>virginica</td>\n",
              "    </tr>\n",
              "  </tbody>\n",
              "</table>\n",
              "<p>150 rows × 5 columns</p>\n",
              "</div>"
            ],
            "text/plain": [
              "     sepal_length  sepal_width  petal_length  petal_width    species\n",
              "0             5.1          3.5           1.4          0.2     setosa\n",
              "1             4.9          3.0           1.4          0.2     setosa\n",
              "2             4.7          3.2           1.3          0.2     setosa\n",
              "3             4.6          3.1           1.5          0.2     setosa\n",
              "4             5.0          3.6           1.4          0.2     setosa\n",
              "..            ...          ...           ...          ...        ...\n",
              "145           6.7          3.0           5.2          2.3  virginica\n",
              "146           6.3          2.5           5.0          1.9  virginica\n",
              "147           6.5          3.0           5.2          2.0  virginica\n",
              "148           6.2          3.4           5.4          2.3  virginica\n",
              "149           5.9          3.0           5.1          1.8  virginica\n",
              "\n",
              "[150 rows x 5 columns]"
            ]
          },
          "metadata": {
            "tags": []
          },
          "execution_count": 4
        }
      ]
    },
    {
      "cell_type": "code",
      "metadata": {
        "colab": {
          "base_uri": "https://localhost:8080/",
          "height": 270
        },
        "id": "1qILKhhshy6n",
        "outputId": "9ecb58a6-94ec-40b1-94fc-523aba94cfea"
      },
      "source": [
        "sns.heatmap(data = dataIris.corr(), annot = True)\n",
        "plt.show\n",
        "\n",
        "X = dataIris[[\"sepal_length\", \"sepal_width\",\"petal_length\",\"petal_width\"]]\n",
        "Y = dataIris[\"species\"]\n",
        "\n",
        "XTrain, XTest, YTrain, YTest = train_test_split(X, Y, test_size = 0.2)"
      ],
      "execution_count": 17,
      "outputs": [
        {
          "output_type": "display_data",
          "data": {
            "image/png": "[encoded data removed]",
            "text/plain": [
              "<Figure size 432x288 with 2 Axes>"
            ]
          },
          "metadata": {
            "tags": [],
            "needs_background": "light"
          }
        }
      ]
    },
    {
      "cell_type": "markdown",
      "metadata": {
        "id": "FZBrb33T4crV"
      },
      "source": [
        "# **Classification - KNN**"
      ]
    },
    {
      "cell_type": "code",
      "metadata": {
        "id": "VCAFgFAf-Qkb",
        "colab": {
          "base_uri": "https://localhost:8080/"
        },
        "outputId": "5ed430e5-1efb-4045-b010-6b6d0e8d6320"
      },
      "source": [
        "Ks = 20\n",
        "trainAccuracy = np.zeros((Ks-1))\n",
        "testAccuracy = np.zeros((Ks-1))\n",
        "ConfustionMx = [];\n",
        "\n",
        "for n in range(1, Ks):    \n",
        "    KNN = KNeighborsClassifier(n_neighbors = 3).fit(XTrain, YTrain)  \n",
        "    trainClass = KNN.predict(XTrain)\n",
        "    testClass = KNN.predict(XTest)\n",
        "    trainAcc = metrics.accuracy_score(YTrain, trainClass)\n",
        "    testAcc = metrics.accuracy_score(YTest, testClass)\n",
        "\n",
        "    \n",
        "print(\"Best Train ACC : %.2f\" % trainAcc.max(), \", with k = \", trainAcc.argmax() + 1)\n",
        "print(\"Best Test ACC : %.2f\" % testAcc.max(), \", with k = \", testAcc.argmax() + 1)"
      ],
      "execution_count": 33,
      "outputs": [
        {
          "output_type": "stream",
          "text": [
            "Best Train ACC : 0.95 , with k =  1\n",
            "Best Test ACC : 1.00 , with k =  1\n"
          ],
          "name": "stdout"
        }
      ]
    },
    {
      "cell_type": "markdown",
      "metadata": {
        "id": "wWa4nul74nEU"
      },
      "source": [
        "# **Classification - Logistic Regression**"
      ]
    },
    {
      "cell_type": "code",
      "metadata": {
        "id": "bW2p6Cib55Tj"
      },
      "source": [
        "from sklearn.linear_model import LogisticRegression\n",
        "from sklearn.metrics import classification_report, confusion_matrix, f1_score"
      ],
      "execution_count": 19,
      "outputs": []
    },
    {
      "cell_type": "code",
      "metadata": {
        "colab": {
          "base_uri": "https://localhost:8080/"
        },
        "id": "k8khW_gO-hEX",
        "outputId": "a4ddbd30-c15e-4878-b8e9-66b885346b76"
      },
      "source": [
        "LGR = LogisticRegression(C = 1.00, solver = 'liblinear').fit(XTrain, YTrain)\n",
        "\n",
        "trainClass = LGR.predict(XTrain)\n",
        "testClass = LGR.predict(XTest)\n",
        "\n",
        "print(\"Train accuracy : \", metrics.accuracy_score(YTrain, trainClass))\n",
        "print(\"Test accuracy  : \", metrics.accuracy_score(YTest, testClass))"
      ],
      "execution_count": 23,
      "outputs": [
        {
          "output_type": "stream",
          "text": [
            "Train accuracy :  0.9666666666666667\n",
            "Test accuracy  :  0.8666666666666667\n"
          ],
          "name": "stdout"
        }
      ]
    },
    {
      "cell_type": "markdown",
      "metadata": {
        "id": "nXdSb7FV4wN6"
      },
      "source": [
        "# **Classification - Decision Tree**"
      ]
    },
    {
      "cell_type": "code",
      "metadata": {
        "id": "s4EqgO-A6AhU"
      },
      "source": [
        "from sklearn.tree import DecisionTreeClassifier"
      ],
      "execution_count": 25,
      "outputs": []
    },
    {
      "cell_type": "code",
      "metadata": {
        "colab": {
          "base_uri": "https://localhost:8080/"
        },
        "id": "DYNGvYLm_538",
        "outputId": "35ea273c-8df7-4305-b5e6-c0aaa3652347"
      },
      "source": [
        "DST = DecisionTreeClassifier(criterion=\"gini\", max_depth = 10).fit(XTrain, YTrain)\n",
        "\n",
        "print(\"Train dataset\")\n",
        "trainClass = DST.predict(XTrain)\n",
        "trainAcc = metrics.accuracy_score(YTrain, trainClass)\n",
        "trainF1  = f1_score(YTrain, trainClass, average='weighted')\n",
        "\n",
        "print(\" ACC : %.2f\" % trainAcc)\n",
        "print(\" F1  : %.2f\" % trainF1)\n",
        "\n",
        "print(\"\")\n",
        "print(\"Test dataset\")\n",
        "testClass = DST.predict(XTest)\n",
        "testAcc  = metrics.accuracy_score(YTest, testClass)\n",
        "testF1  = f1_score(YTest, testClass, average='weighted')\n",
        "\n",
        "print(\" ACC : %.2f\" % testAcc)\n",
        "print(\" F1  : %.2f\" % testF1)\n"
      ],
      "execution_count": 28,
      "outputs": [
        {
          "output_type": "stream",
          "text": [
            "Train dataset\n",
            " ACC : 1.00\n",
            " F1  : 1.00\n",
            "\n",
            "Test dataset\n",
            " ACC : 0.93\n",
            " F1  : 0.93\n"
          ],
          "name": "stdout"
        }
      ]
    },
    {
      "cell_type": "markdown",
      "metadata": {
        "id": "RIPX4yQV51Wq"
      },
      "source": [
        "# **Classification - SVM**"
      ]
    },
    {
      "cell_type": "code",
      "metadata": {
        "id": "ARR_N9pf6DXy"
      },
      "source": [
        "from sklearn import svm"
      ],
      "execution_count": 30,
      "outputs": []
    },
    {
      "cell_type": "code",
      "metadata": {
        "colab": {
          "base_uri": "https://localhost:8080/"
        },
        "id": "JIAY36qMAI61",
        "outputId": "2003513a-e08a-4818-cf00-4bfcceb6cbd6"
      },
      "source": [
        "SVM = svm.SVC().fit(XTrain, YTrain)\n",
        "\n",
        "print(\"Train dataset\")\n",
        "trainClass = SVM.predict(XTrain)\n",
        "trainAcc = metrics.accuracy_score(YTrain, trainClass)\n",
        "trainF1  = f1_score(YTrain, trainClass, average='weighted')\n",
        "\n",
        "print(\" ACC : %.2f\" % trainAcc)\n",
        "print(\" F1  : %.2f\" % trainF1)\n",
        "\n",
        "print(\"\")\n",
        "print(\"Test dataset\")\n",
        "testClass = SVM.predict(XTest)\n",
        "testAcc  = metrics.accuracy_score(YTest, testClass)\n",
        "testF1  = f1_score(YTest, testClass, average='weighted')\n",
        "\n",
        "print(\" ACC : %.2f\" % testAcc)\n",
        "print(\" F1  : %.2f\" % testF1)"
      ],
      "execution_count": 31,
      "outputs": [
        {
          "output_type": "stream",
          "text": [
            "Train dataset\n",
            " ACC : 0.97\n",
            " F1  : 0.97\n",
            "\n",
            "Test dataset\n",
            " ACC : 1.00\n",
            " F1  : 1.00\n"
          ],
          "name": "stdout"
        }
      ]
    },
    {
      "cell_type": "markdown",
      "metadata": {
        "id": "AT9iSGySt9VF"
      },
      "source": [
        "# **Conclusion**"
      ]
    },
    {
      "cell_type": "markdown",
      "metadata": {
        "id": "1cBHfExUuAGM"
      },
      "source": [
        "After conducting a classification on Iris dataset, I can conclude that:\n",
        "\n",
        "1.   KNN have good accuracy because there is no training phase. This is simple yet effective wayof classifying data. KNN categorize data based on their distance to other points in a training dataset.\n",
        "Disadvantage of this model is it can be fooled by irrelevant attributes that stacked obscure important attributes.\n",
        "\n",
        "2.   Logistic Regression is using logistic funtion to describe the possible outcomes of a single trial.\n",
        "Disadvantage of this model is it works only when the predicted variable is binary.\n",
        "\n",
        "3.   Decision tree are quick and easy to follow. Classification trees give response that are nominal, such as true or false.\n",
        "Disadvantage of this model is that they tend to overfit.\n",
        "\n",
        "4.   SVM classifies data by finding the best hyperplane that separates all data points of one class from those of the other class. It is extremely accurate but have a longer time if using a model with more than two classes.\n",
        "\n",
        "\n"
      ]
    }
  ]
}