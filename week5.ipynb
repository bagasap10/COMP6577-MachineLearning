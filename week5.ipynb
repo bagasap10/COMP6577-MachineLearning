{
  "nbformat": 4,
  "nbformat_minor": 0,
  "metadata": {
    "colab": {
      "name": "week5.ipynb",
      "provenance": [],
      "authorship_tag": "ABX9TyNCT3Ai+jCpiNXsFYeM68h7",
      "include_colab_link": true
    },
    "kernelspec": {
      "name": "python3",
      "display_name": "Python 3"
    },
    "language_info": {
      "name": "python"
    }
  },
  "cells": [
    {
      "cell_type": "markdown",
      "metadata": {
        "id": "view-in-github",
        "colab_type": "text"
      },
      "source": [
        "<a href=\"https://colab.research.google.com/github/bagasap10/COMP6577-MachineLearning/blob/main/week5.ipynb\" target=\"_parent\"><img src=\"https://colab.research.google.com/assets/colab-badge.svg\" alt=\"Open In Colab\"/></a>"
      ]
    },
    {
      "cell_type": "code",
      "metadata": {
        "id": "8qwWmdkCx2ym"
      },
      "source": [
        "import pandas as pd\n",
        "import numpy as np\n",
        "import matplotlib \n",
        "import matplotlib.pyplot as plt\n",
        "import seaborn as sns\n",
        "from sklearn.neighbors import KNeighborsClassifier\n",
        "from sklearn.metrics import accuracy_score, mean_squared_error, mean_absolute_error\n",
        "from sklearn import preprocessing\n",
        "from sklearn.model_selection import train_test_split"
      ],
      "execution_count": 2,
      "outputs": []
    },
    {
      "cell_type": "code",
      "metadata": {
        "colab": {
          "base_uri": "https://localhost:8080/"
        },
        "id": "Bho29GhB0MYH",
        "outputId": "9b393952-1518-4780-f2cf-73e2ee434b10"
      },
      "source": [
        "!wget https://raw.githubusercontent.com/andrychowanda/COMP6577/master/listings.csv"
      ],
      "execution_count": 3,
      "outputs": [
        {
          "output_type": "stream",
          "text": [
            "--2021-04-01 12:42:28--  https://raw.githubusercontent.com/andrychowanda/COMP6577/master/listings.csv\n",
            "Resolving raw.githubusercontent.com (raw.githubusercontent.com)... 185.199.108.133, 185.199.110.133, 185.199.109.133, ...\n",
            "Connecting to raw.githubusercontent.com (raw.githubusercontent.com)|185.199.108.133|:443... connected.\n",
            "HTTP request sent, awaiting response... 200 OK\n",
            "Length: 1164675 (1.1M) [text/plain]\n",
            "Saving to: ‘listings.csv’\n",
            "\n",
            "\rlistings.csv          0%[                    ]       0  --.-KB/s               \rlistings.csv        100%[===================>]   1.11M  --.-KB/s    in 0.02s   \n",
            "\n",
            "2021-04-01 12:42:28 (70.2 MB/s) - ‘listings.csv’ saved [1164675/1164675]\n",
            "\n"
          ],
          "name": "stdout"
        }
      ]
    },
    {
      "cell_type": "code",
      "metadata": {
        "colab": {
          "base_uri": "https://localhost:8080/",
          "height": 796
        },
        "id": "eztNT0s00VZU",
        "outputId": "585b13bc-1370-470a-a027-684e8fcdd4f5"
      },
      "source": [
        "listingData = pd.read_csv('listings.csv')\n",
        "listingData"
      ],
      "execution_count": 5,
      "outputs": [
        {
          "output_type": "execute_result",
          "data": {
            "text/html": [
              "<div>\n",
              "<style scoped>\n",
              "    .dataframe tbody tr th:only-of-type {\n",
              "        vertical-align: middle;\n",
              "    }\n",
              "\n",
              "    .dataframe tbody tr th {\n",
              "        vertical-align: top;\n",
              "    }\n",
              "\n",
              "    .dataframe thead th {\n",
              "        text-align: right;\n",
              "    }\n",
              "</style>\n",
              "<table border=\"1\" class=\"dataframe\">\n",
              "  <thead>\n",
              "    <tr style=\"text-align: right;\">\n",
              "      <th></th>\n",
              "      <th>id</th>\n",
              "      <th>name</th>\n",
              "      <th>host_id</th>\n",
              "      <th>host_name</th>\n",
              "      <th>neighbourhood_group</th>\n",
              "      <th>neighbourhood</th>\n",
              "      <th>latitude</th>\n",
              "      <th>longitude</th>\n",
              "      <th>room_type</th>\n",
              "      <th>price</th>\n",
              "      <th>minimum_nights</th>\n",
              "      <th>number_of_reviews</th>\n",
              "      <th>last_review</th>\n",
              "      <th>reviews_per_month</th>\n",
              "      <th>calculated_host_listings_count</th>\n",
              "      <th>availability_365</th>\n",
              "    </tr>\n",
              "  </thead>\n",
              "  <tbody>\n",
              "    <tr>\n",
              "      <th>0</th>\n",
              "      <td>49091</td>\n",
              "      <td>COZICOMFORT LONG TERM STAY ROOM 2</td>\n",
              "      <td>266763</td>\n",
              "      <td>Francesca</td>\n",
              "      <td>North Region</td>\n",
              "      <td>Woodlands</td>\n",
              "      <td>1.44255</td>\n",
              "      <td>103.79580</td>\n",
              "      <td>Private room</td>\n",
              "      <td>83</td>\n",
              "      <td>180</td>\n",
              "      <td>1</td>\n",
              "      <td>2013-10-21</td>\n",
              "      <td>0.01</td>\n",
              "      <td>2</td>\n",
              "      <td>365</td>\n",
              "    </tr>\n",
              "    <tr>\n",
              "      <th>1</th>\n",
              "      <td>50646</td>\n",
              "      <td>Pleasant Room along Bukit Timah</td>\n",
              "      <td>227796</td>\n",
              "      <td>Sujatha</td>\n",
              "      <td>Central Region</td>\n",
              "      <td>Bukit Timah</td>\n",
              "      <td>1.33235</td>\n",
              "      <td>103.78521</td>\n",
              "      <td>Private room</td>\n",
              "      <td>81</td>\n",
              "      <td>90</td>\n",
              "      <td>18</td>\n",
              "      <td>2014-12-26</td>\n",
              "      <td>0.28</td>\n",
              "      <td>1</td>\n",
              "      <td>365</td>\n",
              "    </tr>\n",
              "    <tr>\n",
              "      <th>2</th>\n",
              "      <td>56334</td>\n",
              "      <td>COZICOMFORT</td>\n",
              "      <td>266763</td>\n",
              "      <td>Francesca</td>\n",
              "      <td>North Region</td>\n",
              "      <td>Woodlands</td>\n",
              "      <td>1.44246</td>\n",
              "      <td>103.79667</td>\n",
              "      <td>Private room</td>\n",
              "      <td>69</td>\n",
              "      <td>6</td>\n",
              "      <td>20</td>\n",
              "      <td>2015-10-01</td>\n",
              "      <td>0.20</td>\n",
              "      <td>2</td>\n",
              "      <td>365</td>\n",
              "    </tr>\n",
              "    <tr>\n",
              "      <th>3</th>\n",
              "      <td>71609</td>\n",
              "      <td>Ensuite Room (Room 1 &amp; 2) near EXPO</td>\n",
              "      <td>367042</td>\n",
              "      <td>Belinda</td>\n",
              "      <td>East Region</td>\n",
              "      <td>Tampines</td>\n",
              "      <td>1.34541</td>\n",
              "      <td>103.95712</td>\n",
              "      <td>Private room</td>\n",
              "      <td>206</td>\n",
              "      <td>1</td>\n",
              "      <td>14</td>\n",
              "      <td>2019-08-11</td>\n",
              "      <td>0.15</td>\n",
              "      <td>9</td>\n",
              "      <td>353</td>\n",
              "    </tr>\n",
              "    <tr>\n",
              "      <th>4</th>\n",
              "      <td>71896</td>\n",
              "      <td>B&amp;B  Room 1 near Airport &amp; EXPO</td>\n",
              "      <td>367042</td>\n",
              "      <td>Belinda</td>\n",
              "      <td>East Region</td>\n",
              "      <td>Tampines</td>\n",
              "      <td>1.34567</td>\n",
              "      <td>103.95963</td>\n",
              "      <td>Private room</td>\n",
              "      <td>94</td>\n",
              "      <td>1</td>\n",
              "      <td>22</td>\n",
              "      <td>2019-07-28</td>\n",
              "      <td>0.22</td>\n",
              "      <td>9</td>\n",
              "      <td>355</td>\n",
              "    </tr>\n",
              "    <tr>\n",
              "      <th>...</th>\n",
              "      <td>...</td>\n",
              "      <td>...</td>\n",
              "      <td>...</td>\n",
              "      <td>...</td>\n",
              "      <td>...</td>\n",
              "      <td>...</td>\n",
              "      <td>...</td>\n",
              "      <td>...</td>\n",
              "      <td>...</td>\n",
              "      <td>...</td>\n",
              "      <td>...</td>\n",
              "      <td>...</td>\n",
              "      <td>...</td>\n",
              "      <td>...</td>\n",
              "      <td>...</td>\n",
              "      <td>...</td>\n",
              "    </tr>\n",
              "    <tr>\n",
              "      <th>7902</th>\n",
              "      <td>38105126</td>\n",
              "      <td>Loft 2 pax near Haw Par / Pasir Panjang. Free ...</td>\n",
              "      <td>278109833</td>\n",
              "      <td>Belle</td>\n",
              "      <td>Central Region</td>\n",
              "      <td>Queenstown</td>\n",
              "      <td>1.27973</td>\n",
              "      <td>103.78751</td>\n",
              "      <td>Entire home/apt</td>\n",
              "      <td>100</td>\n",
              "      <td>3</td>\n",
              "      <td>0</td>\n",
              "      <td>NaN</td>\n",
              "      <td>NaN</td>\n",
              "      <td>31</td>\n",
              "      <td>61</td>\n",
              "    </tr>\n",
              "    <tr>\n",
              "      <th>7903</th>\n",
              "      <td>38108273</td>\n",
              "      <td>3bedroom luxury at Orchard</td>\n",
              "      <td>238891646</td>\n",
              "      <td>Neha</td>\n",
              "      <td>Central Region</td>\n",
              "      <td>Tanglin</td>\n",
              "      <td>1.29269</td>\n",
              "      <td>103.82623</td>\n",
              "      <td>Entire home/apt</td>\n",
              "      <td>550</td>\n",
              "      <td>6</td>\n",
              "      <td>0</td>\n",
              "      <td>NaN</td>\n",
              "      <td>NaN</td>\n",
              "      <td>34</td>\n",
              "      <td>365</td>\n",
              "    </tr>\n",
              "    <tr>\n",
              "      <th>7904</th>\n",
              "      <td>38109336</td>\n",
              "      <td>[ Farrer Park ] New City Fringe CBD Mins to MRT</td>\n",
              "      <td>281448565</td>\n",
              "      <td>Mindy</td>\n",
              "      <td>Central Region</td>\n",
              "      <td>Kallang</td>\n",
              "      <td>1.31286</td>\n",
              "      <td>103.85996</td>\n",
              "      <td>Private room</td>\n",
              "      <td>58</td>\n",
              "      <td>30</td>\n",
              "      <td>0</td>\n",
              "      <td>NaN</td>\n",
              "      <td>NaN</td>\n",
              "      <td>3</td>\n",
              "      <td>173</td>\n",
              "    </tr>\n",
              "    <tr>\n",
              "      <th>7905</th>\n",
              "      <td>38110493</td>\n",
              "      <td>Cheap Master Room in Central of Singapore</td>\n",
              "      <td>243835202</td>\n",
              "      <td>Huang</td>\n",
              "      <td>Central Region</td>\n",
              "      <td>River Valley</td>\n",
              "      <td>1.29543</td>\n",
              "      <td>103.83801</td>\n",
              "      <td>Private room</td>\n",
              "      <td>56</td>\n",
              "      <td>14</td>\n",
              "      <td>0</td>\n",
              "      <td>NaN</td>\n",
              "      <td>NaN</td>\n",
              "      <td>2</td>\n",
              "      <td>30</td>\n",
              "    </tr>\n",
              "    <tr>\n",
              "      <th>7906</th>\n",
              "      <td>38112762</td>\n",
              "      <td>Amazing room with private bathroom walk to Orc...</td>\n",
              "      <td>28788520</td>\n",
              "      <td>Terence</td>\n",
              "      <td>Central Region</td>\n",
              "      <td>River Valley</td>\n",
              "      <td>1.29672</td>\n",
              "      <td>103.83325</td>\n",
              "      <td>Private room</td>\n",
              "      <td>65</td>\n",
              "      <td>90</td>\n",
              "      <td>0</td>\n",
              "      <td>NaN</td>\n",
              "      <td>NaN</td>\n",
              "      <td>7</td>\n",
              "      <td>365</td>\n",
              "    </tr>\n",
              "  </tbody>\n",
              "</table>\n",
              "<p>7907 rows × 16 columns</p>\n",
              "</div>"
            ],
            "text/plain": [
              "            id  ... availability_365\n",
              "0        49091  ...              365\n",
              "1        50646  ...              365\n",
              "2        56334  ...              365\n",
              "3        71609  ...              353\n",
              "4        71896  ...              355\n",
              "...        ...  ...              ...\n",
              "7902  38105126  ...               61\n",
              "7903  38108273  ...              365\n",
              "7904  38109336  ...              173\n",
              "7905  38110493  ...               30\n",
              "7906  38112762  ...              365\n",
              "\n",
              "[7907 rows x 16 columns]"
            ]
          },
          "metadata": {
            "tags": []
          },
          "execution_count": 5
        }
      ]
    },
    {
      "cell_type": "code",
      "metadata": {
        "colab": {
          "base_uri": "https://localhost:8080/"
        },
        "id": "H2xWXDfS008_",
        "outputId": "8e39c834-bdb9-4ae7-d710-ff649befa25b"
      },
      "source": [
        "for i in listingData:\n",
        "    print(i, listingData[i].dtypes)\n",
        "    if(listingData[i].isna().values.any() and listingData[i].dtypes != object):\n",
        "        listingData[i] =listingData[i].fillna(0)\n",
        "\n",
        "train, validation = train_test_split(listingData, test_size=0.2,random_state=12368)"
      ],
      "execution_count": 6,
      "outputs": [
        {
          "output_type": "stream",
          "text": [
            "id int64\n",
            "name object\n",
            "host_id int64\n",
            "host_name object\n",
            "neighbourhood_group object\n",
            "neighbourhood object\n",
            "latitude float64\n",
            "longitude float64\n",
            "room_type object\n",
            "price int64\n",
            "minimum_nights int64\n",
            "number_of_reviews int64\n",
            "last_review object\n",
            "reviews_per_month float64\n",
            "calculated_host_listings_count int64\n",
            "availability_365 int64\n"
          ],
          "name": "stdout"
        }
      ]
    },
    {
      "cell_type": "code",
      "metadata": {
        "id": "2_KUgJyQ045Y"
      },
      "source": [
        "KNN = KNeighborsClassifier(n_neighbors = 3).fit(train[[\"price\",\"availability_365\"]], train[\"room_type\"])"
      ],
      "execution_count": 7,
      "outputs": []
    },
    {
      "cell_type": "code",
      "metadata": {
        "colab": {
          "base_uri": "https://localhost:8080/"
        },
        "id": "T_qWl8Fa08bY",
        "outputId": "56c5809b-7b26-4399-a2f4-a7bf0b2edd58"
      },
      "source": [
        "classification = KNN.predict(validation[[\"price\",\"availability_365\"]])\n",
        "accu = accuracy_score(validation[\"room_type\"],classification)\n",
        "mae = 1-accu\n",
        "mse = 1-accu\n",
        "\n",
        "print(\"acc = %.2f\" % accu)\n",
        "print(\"mae = %.2f\" % mae)\n",
        "print(\"mse = %.2f\" % mse)"
      ],
      "execution_count": 8,
      "outputs": [
        {
          "output_type": "stream",
          "text": [
            "acc = 0.82\n",
            "mae = 0.18\n",
            "mse = 0.18\n"
          ],
          "name": "stdout"
        }
      ]
    },
    {
      "cell_type": "code",
      "metadata": {
        "colab": {
          "base_uri": "https://localhost:8080/"
        },
        "id": "Tis7mtcP1Bh6",
        "outputId": "1f809b46-140c-43a4-a26d-7284182d95e2"
      },
      "source": [
        "K = 10\n",
        "accuracy = np.zeros((K-1))\n",
        "\n",
        "for n in range(1, K):\n",
        "    KNN = KNeighborsClassifier(n_neighbors = n).fit(train[[\"price\", \"availability_365\"]], train[\"room_type\"])  \n",
        "    classification = KNN.predict(validation[[\"price\", \"availability_365\"]])\n",
        "    accu = accuracy_score(validation[\"room_type\"], classification)\n",
        "    \n",
        "print(\"Best  ACC : %.2f\" % accu.max(), \", with k = \", accu.argmax() + 1)"
      ],
      "execution_count": 9,
      "outputs": [
        {
          "output_type": "stream",
          "text": [
            "Best  ACC : 0.84 , with k =  1\n"
          ],
          "name": "stdout"
        }
      ]
    },
    {
      "cell_type": "markdown",
      "metadata": {
        "id": "ZYSEWGzJ1r1m"
      },
      "source": [
        "# Classification SVM"
      ]
    },
    {
      "cell_type": "code",
      "metadata": {
        "id": "QmqJe9T2121G"
      },
      "source": [
        "from sklearn import svm"
      ],
      "execution_count": 10,
      "outputs": []
    },
    {
      "cell_type": "code",
      "metadata": {
        "id": "tLCAKmYn18g4"
      },
      "source": [
        "SVM = svm.SVC().fit(train[[\"price\",\"availability_365\"]], train[\"room_type\"])"
      ],
      "execution_count": 11,
      "outputs": []
    },
    {
      "cell_type": "code",
      "metadata": {
        "colab": {
          "base_uri": "https://localhost:8080/"
        },
        "id": "nvUQy9-r2_aE",
        "outputId": "a6621de9-a15a-4664-f812-a1a316685b2a"
      },
      "source": [
        "classification = SVM.predict(validation[[\"price\", \"availability_365\"]])\n",
        "accuracy = accuracy_score(validation[\"room_type\"], classification)\n",
        "# MAE = mean_absolute_error(validation[\"room_type\"], classification)\n",
        "# MSE = mean_squared_error(validation[\"room_type\"], classification)\n",
        "# F1  = f1_score(validation[\"room_type\"], classification, average='weighted') \n",
        "# cnf_matrix = confusion_matrix(validation[\"room_type\"], classification, labels=[0,1])\n",
        "\n",
        "\n",
        "print(\" ACC : %.2f\" % accuracy)\n",
        "# print(\" MAE : %.2f\" % MAE)\n",
        "# print(\" MSE : %.2f\" % MSE)\n",
        "# print(\" F1  : %.2f\" % F1)\n",
        "# print(classification_report(validation[\"room_type\"], classification))\n",
        "# print(cnf_matrix)"
      ],
      "execution_count": 12,
      "outputs": [
        {
          "output_type": "stream",
          "text": [
            " ACC : 0.82\n"
          ],
          "name": "stdout"
        }
      ]
    }
  ]
}