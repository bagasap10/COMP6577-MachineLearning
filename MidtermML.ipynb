{
  "nbformat": 4,
  "nbformat_minor": 0,
  "metadata": {
    "colab": {
      "name": "MidtermML",
      "provenance": [],
      "collapsed_sections": [],
      "authorship_tag": "ABX9TyOWV2a91Mc/NNJEf+nqY/ga",
      "include_colab_link": true
    },
    "kernelspec": {
      "name": "python3",
      "display_name": "Python 3"
    },
    "language_info": {
      "name": "python"
    }
  },
  "cells": [
    {
      "cell_type": "markdown",
      "metadata": {
        "id": "view-in-github",
        "colab_type": "text"
      },
      "source": [
        "<a href=\"https://colab.research.google.com/github/bagasap10/COMP6577-MachineLearning/blob/main/MidtermML.ipynb\" target=\"_parent\"><img src=\"https://colab.research.google.com/assets/colab-badge.svg\" alt=\"Open In Colab\"/></a>"
      ]
    },
    {
      "cell_type": "markdown",
      "metadata": {
        "id": "7AQWoBmz3zya"
      },
      "source": [
        "# Import package"
      ]
    },
    {
      "cell_type": "code",
      "metadata": {
        "id": "3fn4NdAnvvwL"
      },
      "source": [
        "import pandas as pd\n",
        "import numpy as np\n",
        "import seaborn as sns\n",
        "import matplotlib.pyplot as plt\n",
        "from sklearn import preprocessing\n",
        "from sklearn.model_selection import train_test_split\n",
        "from sklearn.linear_model import LinearRegression\n",
        "from sklearn.metrics import r2_score, mean_squared_error, mean_absolute_error"
      ],
      "execution_count": 81,
      "outputs": []
    },
    {
      "cell_type": "markdown",
      "metadata": {
        "id": "ikIBQSuz1UCW"
      },
      "source": [
        "# **1. Download and analyse the dataset**"
      ]
    },
    {
      "cell_type": "code",
      "metadata": {
        "id": "hIGZxJs93xwj",
        "colab": {
          "base_uri": "https://localhost:8080/"
        },
        "outputId": "bbeed417-d727-43d4-a946-16a7a4a8b090"
      },
      "source": [
        "!wget https://raw.githubusercontent.com/bagasap10/COMP6577-MachineLearning/main/mydataset.csv"
      ],
      "execution_count": 82,
      "outputs": [
        {
          "output_type": "stream",
          "text": [
            "--2021-04-29 19:54:15--  https://raw.githubusercontent.com/bagasap10/COMP6577-MachineLearning/main/mydataset.csv\n",
            "Resolving raw.githubusercontent.com (raw.githubusercontent.com)... 185.199.111.133, 185.199.110.133, 185.199.109.133, ...\n",
            "Connecting to raw.githubusercontent.com (raw.githubusercontent.com)|185.199.111.133|:443... connected.\n",
            "HTTP request sent, awaiting response... 200 OK\n",
            "Length: 1738173 (1.7M) [text/plain]\n",
            "Saving to: ‘mydataset.csv.3’\n",
            "\n",
            "\rmydataset.csv.3       0%[                    ]       0  --.-KB/s               \rmydataset.csv.3     100%[===================>]   1.66M  --.-KB/s    in 0.1s    \n",
            "\n",
            "2021-04-29 19:54:15 (16.7 MB/s) - ‘mydataset.csv.3’ saved [1738173/1738173]\n",
            "\n"
          ],
          "name": "stdout"
        }
      ]
    },
    {
      "cell_type": "code",
      "metadata": {
        "colab": {
          "base_uri": "https://localhost:8080/",
          "height": 740
        },
        "id": "vx9rskjK5JQM",
        "outputId": "1eb1ef77-5895-4a16-a8c2-0073ce5c519d"
      },
      "source": [
        "data = pd.read_csv(\"mydataset.csv\")\n",
        "data\n"
      ],
      "execution_count": 116,
      "outputs": [
        {
          "output_type": "execute_result",
          "data": {
            "text/html": [
              "<div>\n",
              "<style scoped>\n",
              "    .dataframe tbody tr th:only-of-type {\n",
              "        vertical-align: middle;\n",
              "    }\n",
              "\n",
              "    .dataframe tbody tr th {\n",
              "        vertical-align: top;\n",
              "    }\n",
              "\n",
              "    .dataframe thead th {\n",
              "        text-align: right;\n",
              "    }\n",
              "</style>\n",
              "<table border=\"1\" class=\"dataframe\">\n",
              "  <thead>\n",
              "    <tr style=\"text-align: right;\">\n",
              "      <th></th>\n",
              "      <th>id</th>\n",
              "      <th>name</th>\n",
              "      <th>host_id</th>\n",
              "      <th>host_name</th>\n",
              "      <th>neighbourhood_group</th>\n",
              "      <th>neighbourhood</th>\n",
              "      <th>latitude</th>\n",
              "      <th>longitude</th>\n",
              "      <th>room_type</th>\n",
              "      <th>price</th>\n",
              "      <th>minimum_nights</th>\n",
              "      <th>number_of_reviews</th>\n",
              "      <th>last_review</th>\n",
              "      <th>reviews_per_month</th>\n",
              "    </tr>\n",
              "  </thead>\n",
              "  <tbody>\n",
              "    <tr>\n",
              "      <th>0</th>\n",
              "      <td>35303</td>\n",
              "      <td>La Casa Gaienmae C Harajuku, Omotesando is nearby</td>\n",
              "      <td>151977</td>\n",
              "      <td>Miyuki</td>\n",
              "      <td>NaN</td>\n",
              "      <td>Shibuya Ku</td>\n",
              "      <td>35.67152</td>\n",
              "      <td>139.71203</td>\n",
              "      <td>Private room</td>\n",
              "      <td>4196</td>\n",
              "      <td>28</td>\n",
              "      <td>18</td>\n",
              "      <td>2018-07-28</td>\n",
              "      <td>0.20</td>\n",
              "    </tr>\n",
              "    <tr>\n",
              "      <th>1</th>\n",
              "      <td>197677</td>\n",
              "      <td>Oshiage Holiday Apartment</td>\n",
              "      <td>964081</td>\n",
              "      <td>Yoshimi &amp; Marek</td>\n",
              "      <td>NaN</td>\n",
              "      <td>Sumida Ku</td>\n",
              "      <td>35.71721</td>\n",
              "      <td>139.82596</td>\n",
              "      <td>Entire home/apt</td>\n",
              "      <td>10975</td>\n",
              "      <td>3</td>\n",
              "      <td>156</td>\n",
              "      <td>2019-05-21</td>\n",
              "      <td>1.65</td>\n",
              "    </tr>\n",
              "    <tr>\n",
              "      <th>2</th>\n",
              "      <td>289597</td>\n",
              "      <td>Private apt in central Tokyo #203</td>\n",
              "      <td>341577</td>\n",
              "      <td>Hide&amp;Kei</td>\n",
              "      <td>NaN</td>\n",
              "      <td>Nerima Ku</td>\n",
              "      <td>35.74267</td>\n",
              "      <td>139.65810</td>\n",
              "      <td>Entire home/apt</td>\n",
              "      <td>4196</td>\n",
              "      <td>30</td>\n",
              "      <td>107</td>\n",
              "      <td>2019-05-25</td>\n",
              "      <td>1.25</td>\n",
              "    </tr>\n",
              "    <tr>\n",
              "      <th>3</th>\n",
              "      <td>370759</td>\n",
              "      <td>Cozy flat #203, local area YET 10 mins to shib...</td>\n",
              "      <td>1573631</td>\n",
              "      <td>Gilles,Mayumi,Taiki</td>\n",
              "      <td>NaN</td>\n",
              "      <td>Setagaya Ku</td>\n",
              "      <td>35.66344</td>\n",
              "      <td>139.65593</td>\n",
              "      <td>Entire home/apt</td>\n",
              "      <td>6994</td>\n",
              "      <td>29</td>\n",
              "      <td>99</td>\n",
              "      <td>2019-05-07</td>\n",
              "      <td>1.55</td>\n",
              "    </tr>\n",
              "    <tr>\n",
              "      <th>4</th>\n",
              "      <td>700253</td>\n",
              "      <td>Private apt in central Tokyo #201</td>\n",
              "      <td>341577</td>\n",
              "      <td>Hide&amp;Kei</td>\n",
              "      <td>NaN</td>\n",
              "      <td>Nerima Ku</td>\n",
              "      <td>35.74264</td>\n",
              "      <td>139.65832</td>\n",
              "      <td>Entire home/apt</td>\n",
              "      <td>3981</td>\n",
              "      <td>30</td>\n",
              "      <td>101</td>\n",
              "      <td>2019-05-03</td>\n",
              "      <td>1.24</td>\n",
              "    </tr>\n",
              "    <tr>\n",
              "      <th>...</th>\n",
              "      <td>...</td>\n",
              "      <td>...</td>\n",
              "      <td>...</td>\n",
              "      <td>...</td>\n",
              "      <td>...</td>\n",
              "      <td>...</td>\n",
              "      <td>...</td>\n",
              "      <td>...</td>\n",
              "      <td>...</td>\n",
              "      <td>...</td>\n",
              "      <td>...</td>\n",
              "      <td>...</td>\n",
              "      <td>...</td>\n",
              "      <td>...</td>\n",
              "    </tr>\n",
              "    <tr>\n",
              "      <th>11461</th>\n",
              "      <td>36083287</td>\n",
              "      <td>1min to station · Skytree/Tatami hotel/new design</td>\n",
              "      <td>235406925</td>\n",
              "      <td>Sayoko佐代子</td>\n",
              "      <td>NaN</td>\n",
              "      <td>Sumida Ku</td>\n",
              "      <td>35.70862</td>\n",
              "      <td>139.81393</td>\n",
              "      <td>Entire home/apt</td>\n",
              "      <td>21951</td>\n",
              "      <td>1</td>\n",
              "      <td>0</td>\n",
              "      <td>NaN</td>\n",
              "      <td>NaN</td>\n",
              "    </tr>\n",
              "    <tr>\n",
              "      <th>11462</th>\n",
              "      <td>36083512</td>\n",
              "      <td>Asakusa Wired house 5pax near by UENO/AKIHABARA</td>\n",
              "      <td>267481408</td>\n",
              "      <td>Hyongsu</td>\n",
              "      <td>NaN</td>\n",
              "      <td>Taito Ku</td>\n",
              "      <td>35.72464</td>\n",
              "      <td>139.78078</td>\n",
              "      <td>Entire home/apt</td>\n",
              "      <td>7747</td>\n",
              "      <td>1</td>\n",
              "      <td>0</td>\n",
              "      <td>NaN</td>\n",
              "      <td>NaN</td>\n",
              "    </tr>\n",
              "    <tr>\n",
              "      <th>11463</th>\n",
              "      <td>36084566</td>\n",
              "      <td>东京精品民宿</td>\n",
              "      <td>161702799</td>\n",
              "      <td>Yang</td>\n",
              "      <td>NaN</td>\n",
              "      <td>Toshima Ku</td>\n",
              "      <td>35.73587</td>\n",
              "      <td>139.73397</td>\n",
              "      <td>Private room</td>\n",
              "      <td>56275</td>\n",
              "      <td>1</td>\n",
              "      <td>0</td>\n",
              "      <td>NaN</td>\n",
              "      <td>NaN</td>\n",
              "    </tr>\n",
              "    <tr>\n",
              "      <th>11464</th>\n",
              "      <td>36085357</td>\n",
              "      <td>#4 DIRECT ACCESS TO DISNEY IN BUS! 3MIN TO STA...</td>\n",
              "      <td>208189463</td>\n",
              "      <td>Shotaro</td>\n",
              "      <td>NaN</td>\n",
              "      <td>Edogawa Ku</td>\n",
              "      <td>35.66255</td>\n",
              "      <td>139.87236</td>\n",
              "      <td>Entire home/apt</td>\n",
              "      <td>6456</td>\n",
              "      <td>1</td>\n",
              "      <td>0</td>\n",
              "      <td>NaN</td>\n",
              "      <td>NaN</td>\n",
              "    </tr>\n",
              "    <tr>\n",
              "      <th>11465</th>\n",
              "      <td>36086604</td>\n",
              "      <td>103号室:立地最高!駅近･買い物便利!改装したばかりの綺麗な和室です｡</td>\n",
              "      <td>254667806</td>\n",
              "      <td>新東明</td>\n",
              "      <td>NaN</td>\n",
              "      <td>Shinjuku Ku</td>\n",
              "      <td>35.69889</td>\n",
              "      <td>139.70544</td>\n",
              "      <td>Private room</td>\n",
              "      <td>7962</td>\n",
              "      <td>2</td>\n",
              "      <td>0</td>\n",
              "      <td>NaN</td>\n",
              "      <td>NaN</td>\n",
              "    </tr>\n",
              "  </tbody>\n",
              "</table>\n",
              "<p>11466 rows × 14 columns</p>\n",
              "</div>"
            ],
            "text/plain": [
              "             id  ... reviews_per_month\n",
              "0         35303  ...              0.20\n",
              "1        197677  ...              1.65\n",
              "2        289597  ...              1.25\n",
              "3        370759  ...              1.55\n",
              "4        700253  ...              1.24\n",
              "...         ...  ...               ...\n",
              "11461  36083287  ...               NaN\n",
              "11462  36083512  ...               NaN\n",
              "11463  36084566  ...               NaN\n",
              "11464  36085357  ...               NaN\n",
              "11465  36086604  ...               NaN\n",
              "\n",
              "[11466 rows x 14 columns]"
            ]
          },
          "metadata": {
            "tags": []
          },
          "execution_count": 116
        }
      ]
    },
    {
      "cell_type": "markdown",
      "metadata": {
        "id": "H-OCQ_U252Bf"
      },
      "source": [
        "Here we can see the table of each data. To easily discover each datatypes, we use the next function."
      ]
    },
    {
      "cell_type": "code",
      "metadata": {
        "colab": {
          "base_uri": "https://localhost:8080/"
        },
        "id": "seH0fMaj6WQ1",
        "outputId": "043b035f-a447-47c2-efb8-cc7e6eef73b8"
      },
      "source": [
        "for i in data:\n",
        "  print(i, data[i].dtypes)"
      ],
      "execution_count": 117,
      "outputs": [
        {
          "output_type": "stream",
          "text": [
            "id int64\n",
            "name object\n",
            "host_id int64\n",
            "host_name object\n",
            "neighbourhood_group float64\n",
            "neighbourhood object\n",
            "latitude float64\n",
            "longitude float64\n",
            "room_type object\n",
            "price int64\n",
            "minimum_nights int64\n",
            "number_of_reviews int64\n",
            "last_review object\n",
            "reviews_per_month float64\n"
          ],
          "name": "stdout"
        }
      ]
    },
    {
      "cell_type": "markdown",
      "metadata": {
        "id": "fj__3af96sem"
      },
      "source": [
        "After discovering the datatypes, we can use .describe to find the min mean max of all the data."
      ]
    },
    {
      "cell_type": "code",
      "metadata": {
        "colab": {
          "base_uri": "https://localhost:8080/",
          "height": 282
        },
        "id": "fE6-LcNt69hc",
        "outputId": "88188231-f3aa-4329-c3cf-8bbe0e1aeff8"
      },
      "source": [
        "data.describe()"
      ],
      "execution_count": 85,
      "outputs": [
        {
          "output_type": "execute_result",
          "data": {
            "text/html": [
              "<div>\n",
              "<style scoped>\n",
              "    .dataframe tbody tr th:only-of-type {\n",
              "        vertical-align: middle;\n",
              "    }\n",
              "\n",
              "    .dataframe tbody tr th {\n",
              "        vertical-align: top;\n",
              "    }\n",
              "\n",
              "    .dataframe thead th {\n",
              "        text-align: right;\n",
              "    }\n",
              "</style>\n",
              "<table border=\"1\" class=\"dataframe\">\n",
              "  <thead>\n",
              "    <tr style=\"text-align: right;\">\n",
              "      <th></th>\n",
              "      <th>id</th>\n",
              "      <th>host_id</th>\n",
              "      <th>neighbourhood_group</th>\n",
              "      <th>latitude</th>\n",
              "      <th>longitude</th>\n",
              "      <th>price</th>\n",
              "      <th>minimum_nights</th>\n",
              "      <th>number_of_reviews</th>\n",
              "      <th>reviews_per_month</th>\n",
              "    </tr>\n",
              "  </thead>\n",
              "  <tbody>\n",
              "    <tr>\n",
              "      <th>count</th>\n",
              "      <td>1.146600e+04</td>\n",
              "      <td>1.146600e+04</td>\n",
              "      <td>0.0</td>\n",
              "      <td>11466.000000</td>\n",
              "      <td>11466.000000</td>\n",
              "      <td>1.146600e+04</td>\n",
              "      <td>11466.000000</td>\n",
              "      <td>11466.000000</td>\n",
              "      <td>9789.000000</td>\n",
              "    </tr>\n",
              "    <tr>\n",
              "      <th>mean</th>\n",
              "      <td>2.640545e+07</td>\n",
              "      <td>1.399776e+08</td>\n",
              "      <td>NaN</td>\n",
              "      <td>35.687159</td>\n",
              "      <td>139.734537</td>\n",
              "      <td>1.498470e+04</td>\n",
              "      <td>3.316239</td>\n",
              "      <td>26.028868</td>\n",
              "      <td>2.262540</td>\n",
              "    </tr>\n",
              "    <tr>\n",
              "      <th>std</th>\n",
              "      <td>7.565212e+06</td>\n",
              "      <td>8.064289e+07</td>\n",
              "      <td>NaN</td>\n",
              "      <td>0.217853</td>\n",
              "      <td>0.092771</td>\n",
              "      <td>3.327345e+04</td>\n",
              "      <td>7.766766</td>\n",
              "      <td>38.455449</td>\n",
              "      <td>1.744004</td>\n",
              "    </tr>\n",
              "    <tr>\n",
              "      <th>min</th>\n",
              "      <td>3.530300e+04</td>\n",
              "      <td>1.519770e+05</td>\n",
              "      <td>NaN</td>\n",
              "      <td>27.072330</td>\n",
              "      <td>139.130020</td>\n",
              "      <td>0.000000e+00</td>\n",
              "      <td>1.000000</td>\n",
              "      <td>0.000000</td>\n",
              "      <td>0.040000</td>\n",
              "    </tr>\n",
              "    <tr>\n",
              "      <th>25%</th>\n",
              "      <td>2.215251e+07</td>\n",
              "      <td>5.783171e+07</td>\n",
              "      <td>NaN</td>\n",
              "      <td>35.679620</td>\n",
              "      <td>139.698975</td>\n",
              "      <td>6.026000e+03</td>\n",
              "      <td>1.000000</td>\n",
              "      <td>2.000000</td>\n",
              "      <td>1.000000</td>\n",
              "    </tr>\n",
              "    <tr>\n",
              "      <th>50%</th>\n",
              "      <td>2.841873e+07</td>\n",
              "      <td>1.502326e+08</td>\n",
              "      <td>NaN</td>\n",
              "      <td>35.701910</td>\n",
              "      <td>139.729165</td>\n",
              "      <td>1.000700e+04</td>\n",
              "      <td>1.000000</td>\n",
              "      <td>12.000000</td>\n",
              "      <td>2.060000</td>\n",
              "    </tr>\n",
              "    <tr>\n",
              "      <th>75%</th>\n",
              "      <td>3.222416e+07</td>\n",
              "      <td>2.135896e+08</td>\n",
              "      <td>NaN</td>\n",
              "      <td>35.724215</td>\n",
              "      <td>139.784270</td>\n",
              "      <td>1.721600e+04</td>\n",
              "      <td>2.000000</td>\n",
              "      <td>32.000000</td>\n",
              "      <td>3.170000</td>\n",
              "    </tr>\n",
              "    <tr>\n",
              "      <th>max</th>\n",
              "      <td>3.608660e+07</td>\n",
              "      <td>2.714130e+08</td>\n",
              "      <td>NaN</td>\n",
              "      <td>35.832430</td>\n",
              "      <td>142.202880</td>\n",
              "      <td>1.000046e+06</td>\n",
              "      <td>180.000000</td>\n",
              "      <td>453.000000</td>\n",
              "      <td>51.210000</td>\n",
              "    </tr>\n",
              "  </tbody>\n",
              "</table>\n",
              "</div>"
            ],
            "text/plain": [
              "                 id       host_id  ...  number_of_reviews  reviews_per_month\n",
              "count  1.146600e+04  1.146600e+04  ...       11466.000000        9789.000000\n",
              "mean   2.640545e+07  1.399776e+08  ...          26.028868           2.262540\n",
              "std    7.565212e+06  8.064289e+07  ...          38.455449           1.744004\n",
              "min    3.530300e+04  1.519770e+05  ...           0.000000           0.040000\n",
              "25%    2.215251e+07  5.783171e+07  ...           2.000000           1.000000\n",
              "50%    2.841873e+07  1.502326e+08  ...          12.000000           2.060000\n",
              "75%    3.222416e+07  2.135896e+08  ...          32.000000           3.170000\n",
              "max    3.608660e+07  2.714130e+08  ...         453.000000          51.210000\n",
              "\n",
              "[8 rows x 9 columns]"
            ]
          },
          "metadata": {
            "tags": []
          },
          "execution_count": 85
        }
      ]
    },
    {
      "cell_type": "code",
      "metadata": {
        "colab": {
          "base_uri": "https://localhost:8080/"
        },
        "id": "guje5nOu-fGE",
        "outputId": "a3e5271b-381b-426e-c06b-8bc5e9be08c8"
      },
      "source": [
        "data.isna().sum()"
      ],
      "execution_count": 118,
      "outputs": [
        {
          "output_type": "execute_result",
          "data": {
            "text/plain": [
              "id                         0\n",
              "name                       0\n",
              "host_id                    0\n",
              "host_name                 16\n",
              "neighbourhood_group    11466\n",
              "neighbourhood              0\n",
              "latitude                   0\n",
              "longitude                  0\n",
              "room_type                  0\n",
              "price                      0\n",
              "minimum_nights             0\n",
              "number_of_reviews          0\n",
              "last_review             1677\n",
              "reviews_per_month       1677\n",
              "dtype: int64"
            ]
          },
          "metadata": {
            "tags": []
          },
          "execution_count": 118
        }
      ]
    },
    {
      "cell_type": "code",
      "metadata": {
        "id": "YAoxRua5PTRt"
      },
      "source": [
        "for i in data:\n",
        "  if data[i].dtype != object:\n",
        "    data[i] = data[i].fillna(0)"
      ],
      "execution_count": 119,
      "outputs": []
    },
    {
      "cell_type": "code",
      "metadata": {
        "colab": {
          "base_uri": "https://localhost:8080/"
        },
        "id": "DJ7QZ30oPYmF",
        "outputId": "376a17d3-564d-4bc6-875f-524d91999df3"
      },
      "source": [
        "data.isna().sum()"
      ],
      "execution_count": 120,
      "outputs": [
        {
          "output_type": "execute_result",
          "data": {
            "text/plain": [
              "id                        0\n",
              "name                      0\n",
              "host_id                   0\n",
              "host_name                16\n",
              "neighbourhood_group       0\n",
              "neighbourhood             0\n",
              "latitude                  0\n",
              "longitude                 0\n",
              "room_type                 0\n",
              "price                     0\n",
              "minimum_nights            0\n",
              "number_of_reviews         0\n",
              "last_review            1677\n",
              "reviews_per_month         0\n",
              "dtype: int64"
            ]
          },
          "metadata": {
            "tags": []
          },
          "execution_count": 120
        }
      ]
    },
    {
      "cell_type": "markdown",
      "metadata": {
        "id": "7w7VGe_Z7RP7"
      },
      "source": [
        "This is the min mean max etc BEFORE we drop any data that have no value."
      ]
    },
    {
      "cell_type": "code",
      "metadata": {
        "colab": {
          "base_uri": "https://localhost:8080/",
          "height": 282
        },
        "id": "y9-i3rQc7a4R",
        "outputId": "827e70df-6e4f-48bf-c6d0-fca62dc4775c"
      },
      "source": [
        "droppedData = pd.read_csv(\"mydataset.csv\")\n",
        "\n",
        "for i in droppedData:\n",
        "  if droppedData[i].dtype != object:\n",
        "    droppedData[i] = droppedData[i].fillna(0)\n",
        "\n",
        "droppedData.describe()"
      ],
      "execution_count": 87,
      "outputs": [
        {
          "output_type": "execute_result",
          "data": {
            "text/html": [
              "<div>\n",
              "<style scoped>\n",
              "    .dataframe tbody tr th:only-of-type {\n",
              "        vertical-align: middle;\n",
              "    }\n",
              "\n",
              "    .dataframe tbody tr th {\n",
              "        vertical-align: top;\n",
              "    }\n",
              "\n",
              "    .dataframe thead th {\n",
              "        text-align: right;\n",
              "    }\n",
              "</style>\n",
              "<table border=\"1\" class=\"dataframe\">\n",
              "  <thead>\n",
              "    <tr style=\"text-align: right;\">\n",
              "      <th></th>\n",
              "      <th>id</th>\n",
              "      <th>host_id</th>\n",
              "      <th>neighbourhood_group</th>\n",
              "      <th>latitude</th>\n",
              "      <th>longitude</th>\n",
              "      <th>price</th>\n",
              "      <th>minimum_nights</th>\n",
              "      <th>number_of_reviews</th>\n",
              "      <th>reviews_per_month</th>\n",
              "    </tr>\n",
              "  </thead>\n",
              "  <tbody>\n",
              "    <tr>\n",
              "      <th>count</th>\n",
              "      <td>1.146600e+04</td>\n",
              "      <td>1.146600e+04</td>\n",
              "      <td>11466.0</td>\n",
              "      <td>11466.000000</td>\n",
              "      <td>11466.000000</td>\n",
              "      <td>1.146600e+04</td>\n",
              "      <td>11466.000000</td>\n",
              "      <td>11466.000000</td>\n",
              "      <td>11466.000000</td>\n",
              "    </tr>\n",
              "    <tr>\n",
              "      <th>mean</th>\n",
              "      <td>2.640545e+07</td>\n",
              "      <td>1.399776e+08</td>\n",
              "      <td>0.0</td>\n",
              "      <td>35.687159</td>\n",
              "      <td>139.734537</td>\n",
              "      <td>1.498470e+04</td>\n",
              "      <td>3.316239</td>\n",
              "      <td>26.028868</td>\n",
              "      <td>1.931624</td>\n",
              "    </tr>\n",
              "    <tr>\n",
              "      <th>std</th>\n",
              "      <td>7.565212e+06</td>\n",
              "      <td>8.064289e+07</td>\n",
              "      <td>0.0</td>\n",
              "      <td>0.217853</td>\n",
              "      <td>0.092771</td>\n",
              "      <td>3.327345e+04</td>\n",
              "      <td>7.766766</td>\n",
              "      <td>38.455449</td>\n",
              "      <td>1.798866</td>\n",
              "    </tr>\n",
              "    <tr>\n",
              "      <th>min</th>\n",
              "      <td>3.530300e+04</td>\n",
              "      <td>1.519770e+05</td>\n",
              "      <td>0.0</td>\n",
              "      <td>27.072330</td>\n",
              "      <td>139.130020</td>\n",
              "      <td>0.000000e+00</td>\n",
              "      <td>1.000000</td>\n",
              "      <td>0.000000</td>\n",
              "      <td>0.000000</td>\n",
              "    </tr>\n",
              "    <tr>\n",
              "      <th>25%</th>\n",
              "      <td>2.215251e+07</td>\n",
              "      <td>5.783171e+07</td>\n",
              "      <td>0.0</td>\n",
              "      <td>35.679620</td>\n",
              "      <td>139.698975</td>\n",
              "      <td>6.026000e+03</td>\n",
              "      <td>1.000000</td>\n",
              "      <td>2.000000</td>\n",
              "      <td>0.530000</td>\n",
              "    </tr>\n",
              "    <tr>\n",
              "      <th>50%</th>\n",
              "      <td>2.841873e+07</td>\n",
              "      <td>1.502326e+08</td>\n",
              "      <td>0.0</td>\n",
              "      <td>35.701910</td>\n",
              "      <td>139.729165</td>\n",
              "      <td>1.000700e+04</td>\n",
              "      <td>1.000000</td>\n",
              "      <td>12.000000</td>\n",
              "      <td>1.720000</td>\n",
              "    </tr>\n",
              "    <tr>\n",
              "      <th>75%</th>\n",
              "      <td>3.222416e+07</td>\n",
              "      <td>2.135896e+08</td>\n",
              "      <td>0.0</td>\n",
              "      <td>35.724215</td>\n",
              "      <td>139.784270</td>\n",
              "      <td>1.721600e+04</td>\n",
              "      <td>2.000000</td>\n",
              "      <td>32.000000</td>\n",
              "      <td>3.000000</td>\n",
              "    </tr>\n",
              "    <tr>\n",
              "      <th>max</th>\n",
              "      <td>3.608660e+07</td>\n",
              "      <td>2.714130e+08</td>\n",
              "      <td>0.0</td>\n",
              "      <td>35.832430</td>\n",
              "      <td>142.202880</td>\n",
              "      <td>1.000046e+06</td>\n",
              "      <td>180.000000</td>\n",
              "      <td>453.000000</td>\n",
              "      <td>51.210000</td>\n",
              "    </tr>\n",
              "  </tbody>\n",
              "</table>\n",
              "</div>"
            ],
            "text/plain": [
              "                 id       host_id  ...  number_of_reviews  reviews_per_month\n",
              "count  1.146600e+04  1.146600e+04  ...       11466.000000       11466.000000\n",
              "mean   2.640545e+07  1.399776e+08  ...          26.028868           1.931624\n",
              "std    7.565212e+06  8.064289e+07  ...          38.455449           1.798866\n",
              "min    3.530300e+04  1.519770e+05  ...           0.000000           0.000000\n",
              "25%    2.215251e+07  5.783171e+07  ...           2.000000           0.530000\n",
              "50%    2.841873e+07  1.502326e+08  ...          12.000000           1.720000\n",
              "75%    3.222416e+07  2.135896e+08  ...          32.000000           3.000000\n",
              "max    3.608660e+07  2.714130e+08  ...         453.000000          51.210000\n",
              "\n",
              "[8 rows x 9 columns]"
            ]
          },
          "metadata": {
            "tags": []
          },
          "execution_count": 87
        }
      ]
    },
    {
      "cell_type": "code",
      "metadata": {
        "colab": {
          "base_uri": "https://localhost:8080/"
        },
        "id": "i1m2jD69-lKW",
        "outputId": "8b2c9cbc-f0c1-45bf-9b7c-a2fc456391f4"
      },
      "source": [
        "droppedData.isna().sum()"
      ],
      "execution_count": 88,
      "outputs": [
        {
          "output_type": "execute_result",
          "data": {
            "text/plain": [
              "id                        0\n",
              "name                      0\n",
              "host_id                   0\n",
              "host_name                16\n",
              "neighbourhood_group       0\n",
              "neighbourhood             0\n",
              "latitude                  0\n",
              "longitude                 0\n",
              "room_type                 0\n",
              "price                     0\n",
              "minimum_nights            0\n",
              "number_of_reviews         0\n",
              "last_review            1677\n",
              "reviews_per_month         0\n",
              "dtype: int64"
            ]
          },
          "metadata": {
            "tags": []
          },
          "execution_count": 88
        }
      ]
    },
    {
      "cell_type": "markdown",
      "metadata": {
        "id": "paoTLYuj9DRR"
      },
      "source": [
        "The table shown above is a new revised dataset, which replace the non value data to 0."
      ]
    },
    {
      "cell_type": "markdown",
      "metadata": {
        "id": "WynYFhRY9UT4"
      },
      "source": [
        "The difference can be seen on reviews_per_month subject."
      ]
    },
    {
      "cell_type": "markdown",
      "metadata": {
        "id": "leIr7DCgBxIp"
      },
      "source": [
        "# **2. Probability Density Function**"
      ]
    },
    {
      "cell_type": "markdown",
      "metadata": {
        "id": "_OxJC2OHB3d4"
      },
      "source": [
        "In probability theory, a probability density function (PDF), or density of a continuous random variable, is a function that describes the relative likelihood for this random variable to take on a given value."
      ]
    },
    {
      "cell_type": "markdown",
      "metadata": {
        "id": "RJ-tQGygHVXU"
      },
      "source": [
        "Check for NaN"
      ]
    },
    {
      "cell_type": "code",
      "metadata": {
        "colab": {
          "base_uri": "https://localhost:8080/"
        },
        "id": "PEqKtEIaHhX6",
        "outputId": "55e2442c-85f2-4d4f-97eb-7d97715a14ce"
      },
      "source": [
        "for i in droppedData:\n",
        "  print(i, data[i].isna().values.any())"
      ],
      "execution_count": 89,
      "outputs": [
        {
          "output_type": "stream",
          "text": [
            "id False\n",
            "name False\n",
            "host_id False\n",
            "host_name True\n",
            "neighbourhood_group True\n",
            "neighbourhood False\n",
            "latitude False\n",
            "longitude False\n",
            "room_type False\n",
            "price False\n",
            "minimum_nights False\n",
            "number_of_reviews False\n",
            "last_review True\n",
            "reviews_per_month True\n"
          ],
          "name": "stdout"
        }
      ]
    },
    {
      "cell_type": "markdown",
      "metadata": {
        "id": "af4IsvcEH9M1"
      },
      "source": [
        "After we check if the data has NaN value, we can see that host_name, last_review, reviews_per_month has a NaN value. We could ignore host_name because it doesnt correlate with the required dataset for linear regression."
      ]
    },
    {
      "cell_type": "markdown",
      "metadata": {
        "id": "2X66hQJuCBj6"
      },
      "source": [
        "**Kernel Density Estimation**"
      ]
    },
    {
      "cell_type": "markdown",
      "metadata": {
        "id": "iXJlicrECFeF"
      },
      "source": [
        "Kernel density estimation is a non-parametric way to estimate the probability density function of a random variable."
      ]
    },
    {
      "cell_type": "code",
      "metadata": {
        "colab": {
          "base_uri": "https://localhost:8080/",
          "height": 606
        },
        "id": "8jqx1_afCIYQ",
        "outputId": "724818f9-a32a-4e56-d1d5-20430a22b597"
      },
      "source": [
        "plt.figure(figsize=(15,10))\n",
        "\n",
        "subject = ['latitude','longitude','room_type','price','minimum_nights','number_of_reviews','reviews_per_month']\n",
        "\n",
        "for i in range(1,8):\n",
        "  plt.subplot(2,4,i)\n",
        "  sns.histplot(droppedData[subject[i-1]], kde=True)"
      ],
      "execution_count": 90,
      "outputs": [
        {
          "output_type": "display_data",
          "data": {
            "image/png": "[encoded data removed]",
            "text/plain": [
              "<Figure size 1080x720 with 7 Axes>"
            ]
          },
          "metadata": {
            "tags": [],
            "needs_background": "light"
          }
        }
      ]
    },
    {
      "cell_type": "markdown",
      "metadata": {
        "id": "i0Eq9VznFNH1"
      },
      "source": [
        "# 3. "
      ]
    },
    {
      "cell_type": "markdown",
      "metadata": {
        "id": "cbQfEDUVAuH3"
      },
      "source": [
        "Neighbourhood group, host_id, and id have no correlation with the linear regression model because of the datatype, so we could drop it."
      ]
    },
    {
      "cell_type": "code",
      "metadata": {
        "colab": {
          "base_uri": "https://localhost:8080/"
        },
        "id": "KARopSq6DcoX",
        "outputId": "8c149677-4646-4518-dd30-e6cf97ab3c1d"
      },
      "source": [
        "droppedData.pop(\"id\")\n",
        "droppedData.pop(\"host_id\")\n",
        "droppedData.pop(\"neighbourhood_group\")"
      ],
      "execution_count": 91,
      "outputs": [
        {
          "output_type": "execute_result",
          "data": {
            "text/plain": [
              "0        0.0\n",
              "1        0.0\n",
              "2        0.0\n",
              "3        0.0\n",
              "4        0.0\n",
              "        ... \n",
              "11461    0.0\n",
              "11462    0.0\n",
              "11463    0.0\n",
              "11464    0.0\n",
              "11465    0.0\n",
              "Name: neighbourhood_group, Length: 11466, dtype: float64"
            ]
          },
          "metadata": {
            "tags": []
          },
          "execution_count": 91
        }
      ]
    },
    {
      "cell_type": "markdown",
      "metadata": {
        "id": "jdx2TiWj_-wm"
      },
      "source": [
        "**Visualizing data with seaborn**"
      ]
    },
    {
      "cell_type": "code",
      "metadata": {
        "colab": {
          "base_uri": "https://localhost:8080/",
          "height": 592
        },
        "id": "m7yL-mnLFMb7",
        "outputId": "c0050126-29d2-4659-f483-964326e716b1"
      },
      "source": [
        "plt.figure(figsize=(8,8))\n",
        "sns.heatmap(droppedData.corr(), annot = True)"
      ],
      "execution_count": 92,
      "outputs": [
        {
          "output_type": "execute_result",
          "data": {
            "text/plain": [
              "<matplotlib.axes._subplots.AxesSubplot at 0x7f930643d710>"
            ]
          },
          "metadata": {
            "tags": []
          },
          "execution_count": 92
        },
        {
          "output_type": "display_data",
          "data": {
            "image/png": "[encoded data removed]",
            "text/plain": [
              "<Figure size 576x576 with 2 Axes>"
            ]
          },
          "metadata": {
            "tags": [],
            "needs_background": "light"
          }
        }
      ]
    },
    {
      "cell_type": "markdown",
      "metadata": {
        "id": "lf3Q5vNEFomw"
      },
      "source": [
        "By looking at the graph, we can see which subject that can be correlated into correlation matrix. We can determine which is Y and the predictor. This correlation matrix starts at 0 to 1, we have to absolute minus value."
      ]
    },
    {
      "cell_type": "markdown",
      "metadata": {
        "id": "S78FftdbGvGr"
      },
      "source": [
        "\n",
        "\n",
        "> **a.** Although there is much more subject that have more correlation to other subjects. Y that i chose is **reviews_per_month** since it is more reasonable to predict because of many subjects that are closer to 1.\n",
        "\n",
        "> **b.** The predictor of Y would be **minimum_nights** and **number_of_reviews** because its closer to 1. \n",
        "\n",
        "> **c.** I did not chose **latitude** and **longitude** because its closer to 0, which means have less correlation.\n",
        "\n",
        "\n",
        "\n",
        "\n",
        "\n",
        "\n",
        "\n",
        "\n"
      ]
    },
    {
      "cell_type": "markdown",
      "metadata": {
        "id": "l1EOd_LPJaIT"
      },
      "source": [
        "# **4. Train dataset with Linear Regression**"
      ]
    },
    {
      "cell_type": "markdown",
      "metadata": {
        "id": "c-bULYD6OTb6"
      },
      "source": [
        "After making the correlation matrix, we can implement the Y and its predictors. Y is Y and predictors is X."
      ]
    },
    {
      "cell_type": "code",
      "metadata": {
        "id": "e2r0B7UwQCdJ"
      },
      "source": [
        "X = droppedData[[ \"minimum_nights\", \"number_of_reviews\"]]\n",
        "Y = droppedData[\"reviews_per_month\"]\n",
        "\n",
        "XTrain, XTest, YTrain, YTest = train_test_split(X,Y, test_size = 0.5 , random_state = 2301869494)"
      ],
      "execution_count": 93,
      "outputs": []
    },
    {
      "cell_type": "markdown",
      "metadata": {
        "id": "aZOnB984btIe"
      },
      "source": [
        "train_test_split is for splitting the arrays into random train and test subsets. Test_size = 0.2 tells that we are working 20% of the data with a random state of 42."
      ]
    },
    {
      "cell_type": "code",
      "metadata": {
        "colab": {
          "base_uri": "https://localhost:8080/"
        },
        "id": "SoNg44ald4jC",
        "outputId": "94e30a73-9bf7-4153-f063-76012ad46223"
      },
      "source": [
        "LRM = LinearRegression().fit(XTrain, YTrain)\n",
        "prediction = LRM.predict(XTest)\n",
        "\n",
        "theta = np.zeros(4)\n",
        "theta = LRM.coef_\n",
        "theta = np.insert(theta, 0, LRM.intercept_, axis=0)\n",
        "\n",
        "for i, data in enumerate(theta):\n",
        "  print(\"Theta \",i,\":\",data)\n",
        "\n",
        "LRM.score(XTest, YTest)"
      ],
      "execution_count": 94,
      "outputs": [
        {
          "output_type": "stream",
          "text": [
            "Theta  0 : 1.3826848272347787\n",
            "Theta  1 : -0.029935345809743545\n",
            "Theta  2 : 0.02394996156375068\n"
          ],
          "name": "stdout"
        },
        {
          "output_type": "execute_result",
          "data": {
            "text/plain": [
              "0.3093963416139258"
            ]
          },
          "metadata": {
            "tags": []
          },
          "execution_count": 94
        }
      ]
    },
    {
      "cell_type": "markdown",
      "metadata": {
        "id": "0ReyTobQAL3x"
      },
      "source": [
        "# **5. Evaluation Metrics**"
      ]
    },
    {
      "cell_type": "code",
      "metadata": {
        "colab": {
          "base_uri": "https://localhost:8080/"
        },
        "id": "vHgTM8YjgFEj",
        "outputId": "df0f759f-b652-4252-8d81-92a781fb5000"
      },
      "source": [
        "print(\"R2  :\", r2_score(YTest, prediction))\n",
        "print(\"MAE :\", mean_absolute_error(YTest, prediction))\n",
        "print(\"MSE :\", mean_squared_error(YTest, prediction))"
      ],
      "execution_count": 95,
      "outputs": [
        {
          "output_type": "stream",
          "text": [
            "R2  : 0.3093963416139258\n",
            "MAE : 1.064295382367319\n",
            "MSE : 2.3811963178718667\n"
          ],
          "name": "stdout"
        }
      ]
    },
    {
      "cell_type": "markdown",
      "metadata": {
        "id": "qvVS4Pfi9qqx"
      },
      "source": [
        "By the value of the R2, it seems like the data is underfitting. But the value of MAE and MSE doesnt confirm that the data is overfitting neither underfitting."
      ]
    },
    {
      "cell_type": "markdown",
      "metadata": {
        "id": "ARULWqLIAU8A"
      },
      "source": [
        "# **6. Overview**"
      ]
    },
    {
      "cell_type": "markdown",
      "metadata": {
        "id": "y0AqXUqmATc9"
      },
      "source": [
        "## a."
      ]
    },
    {
      "cell_type": "code",
      "metadata": {
        "id": "jhaaxz_snyFf"
      },
      "source": [
        "multivar = []\n",
        "univar = []"
      ],
      "execution_count": 96,
      "outputs": []
    },
    {
      "cell_type": "markdown",
      "metadata": {
        "id": "GIU0nxWZqUnc"
      },
      "source": [
        "These arrays are made to contain r2 score, mae, mse from multivariate linear regression and univariate linear regression."
      ]
    },
    {
      "cell_type": "markdown",
      "metadata": {
        "id": "4aWaV6YHwyIW"
      },
      "source": [
        "**MULTIVARIATE**"
      ]
    },
    {
      "cell_type": "code",
      "metadata": {
        "colab": {
          "base_uri": "https://localhost:8080/"
        },
        "id": "-5DBaOCCs1GJ",
        "outputId": "1f8238da-94c1-4337-d5d1-4709016d657e"
      },
      "source": [
        "minimum_nights = [ 28, 3, 30, 29, 30]\n",
        "number_of_reviews = [ 18, 156, 107, 99 ,101]\n",
        "\n",
        "rpm = np.zeros(4)\n",
        "\n",
        "for i in range(4):\n",
        "  rpm[i] = theta[0] + theta[1] * minimum_nights[i] + theta[2] * number_of_reviews[i]\n",
        "  print(\"Reviews per Month \",i+1,\": \", rpm[i])\n",
        "\n",
        "multivar.append(r2_score(YTest, prediction))\n",
        "multivar.append(mean_absolute_error(YTest, prediction)) \n",
        "multivar.append(mean_squared_error(YTest, prediction))\n"
      ],
      "execution_count": 97,
      "outputs": [
        {
          "output_type": "stream",
          "text": [
            "Reviews per Month  1 :  0.9755944527094718\n",
            "Reviews per Month  2 :  5.029072793750654\n",
            "Reviews per Month  3 :  3.047270340263795\n",
            "Reviews per Month  4 :  2.8856059935635336\n"
          ],
          "name": "stdout"
        }
      ]
    },
    {
      "cell_type": "markdown",
      "metadata": {
        "id": "QIw4f0FHwsu9"
      },
      "source": [
        "**UNIVARIATE**"
      ]
    },
    {
      "cell_type": "code",
      "metadata": {
        "colab": {
          "base_uri": "https://localhost:8080/",
          "height": 592
        },
        "id": "12TzRLM4xXiW",
        "outputId": "d2a235b2-f8c1-401c-87e4-7d9e446f3fa1"
      },
      "source": [
        "plt.figure(figsize=(8,8))\n",
        "sns.heatmap(droppedData.corr(), annot = True)"
      ],
      "execution_count": 98,
      "outputs": [
        {
          "output_type": "execute_result",
          "data": {
            "text/plain": [
              "<matplotlib.axes._subplots.AxesSubplot at 0x7f930839cb10>"
            ]
          },
          "metadata": {
            "tags": []
          },
          "execution_count": 98
        },
        {
          "output_type": "display_data",
          "data": {
            "image/png": "[encoded data removed]",
            "text/plain": [
              "<Figure size 576x576 with 2 Axes>"
            ]
          },
          "metadata": {
            "tags": [],
            "needs_background": "light"
          }
        }
      ]
    },
    {
      "cell_type": "markdown",
      "metadata": {
        "id": "J6vv-pIfxZ-e"
      },
      "source": [
        "From the correlation matrix shown, I take **longitude**, the weakest relationship possible to prove one variable is not effective. And number of_reviews has the strongest relationship with reviews_per_month with 0.53.\n",
        "\n",
        "\n"
      ]
    },
    {
      "cell_type": "code",
      "metadata": {
        "id": "ldtZo4QdyfwA"
      },
      "source": [
        "X = droppedData[[\"longitude\"]]\n",
        "Y = droppedData[\"reviews_per_month\"]\n",
        "\n",
        "XTrain, XTest, YTrain, YTest = train_test_split(X, Y, test_size = 0.5, random_state = 2301869494)"
      ],
      "execution_count": 99,
      "outputs": []
    },
    {
      "cell_type": "code",
      "metadata": {
        "colab": {
          "base_uri": "https://localhost:8080/"
        },
        "id": "LsY68nSOy-n0",
        "outputId": "b2682503-1122-4eaf-d5e1-59633726d431"
      },
      "source": [
        "LRM = LinearRegression().fit(XTrain, YTrain)\n",
        "prediction = LRM.predict(XTest)\n",
        "\n",
        "theta = np.zeros(4)\n",
        "theta = LRM.coef_\n",
        "theta = np.insert(theta, 0, LRM.intercept_, axis=0)\n",
        "\n",
        "for i, data in enumerate(theta):\n",
        "  print(\"Theta \",i,\":\",data)\n",
        "\n",
        "LRM.score(XTest, YTest)"
      ],
      "execution_count": 100,
      "outputs": [
        {
          "output_type": "stream",
          "text": [
            "Theta  0 : 11.311060786946031\n",
            "Theta  1 : -0.06732742028720048\n"
          ],
          "name": "stdout"
        },
        {
          "output_type": "execute_result",
          "data": {
            "text/plain": [
              "-0.0009192366832853071"
            ]
          },
          "metadata": {
            "tags": []
          },
          "execution_count": 100
        }
      ]
    },
    {
      "cell_type": "code",
      "metadata": {
        "colab": {
          "base_uri": "https://localhost:8080/"
        },
        "id": "t99qqZA11e4E",
        "outputId": "a09c07d5-d878-4f7e-8953-27a2b85b7c6d"
      },
      "source": [
        "number_of_reviews = [ 18, 156, 107, 99 ,101]\n",
        "for i in range(4):\n",
        "  print(\"Reviews per Month\", i+1, \": \", theta[0] + theta[1] * number_of_reviews[i])\n",
        "\n",
        "univar.append(r2_score(YTest, prediction))\n",
        "univar.append(mean_absolute_error(YTest, prediction))\n",
        "univar.append(mean_squared_error(YTest, prediction))\n",
        "\n",
        "for i in range(3):\n",
        "  print(univar[i])"
      ],
      "execution_count": 101,
      "outputs": [
        {
          "output_type": "stream",
          "text": [
            "Reviews per Month 1 :  10.099167221776423\n",
            "Reviews per Month 2 :  0.8079832221427559\n",
            "Reviews per Month 3 :  4.10702681621558\n",
            "Reviews per Month 4 :  4.645646178513183\n",
            "-0.0009192366832853072\n",
            "1.3324201650940004\n",
            "3.451162141896668\n"
          ],
          "name": "stdout"
        }
      ]
    },
    {
      "cell_type": "markdown",
      "metadata": {
        "id": "IJz7muqo2c5C"
      },
      "source": [
        "**Compare Univariate with Multivariate**"
      ]
    },
    {
      "cell_type": "code",
      "metadata": {
        "colab": {
          "base_uri": "https://localhost:8080/"
        },
        "id": "plFpIEhJ2klM",
        "outputId": "282d8455-265a-44c8-d53d-d07a91a2d369"
      },
      "source": [
        "print(\"Univariate    Linear Regression R2 Score  : \", univar[0])\n",
        "print(\"Multivariate  Linear Regression R2 Score  : \", multivar[0])\n",
        "print(\"\")\n",
        "print(\"Univariate    Linear Regression Mean Absolute Error  : \", univar[1])\n",
        "print(\"Multivariate  Linear Regression Mean Absolute Error  : \", multivar[1])\n",
        "print(\"\")\n",
        "print(\"Univariate    Linear Regression Mean Squared Error  : \", univar[2])\n",
        "print(\"Multivariate  Linear Regression Mean Squared Error  : \", multivar[2])"
      ],
      "execution_count": 102,
      "outputs": [
        {
          "output_type": "stream",
          "text": [
            "Univariate    Linear Regression R2 Score  :  -0.0009192366832853072\n",
            "Multivariate  Linear Regression R2 Score  :  0.3093963416139258\n",
            "\n",
            "Univariate    Linear Regression Mean Absolute Error  :  1.3324201650940004\n",
            "Multivariate  Linear Regression Mean Absolute Error  :  1.064295382367319\n",
            "\n",
            "Univariate    Linear Regression Mean Squared Error  :  3.451162141896668\n",
            "Multivariate  Linear Regression Mean Squared Error  :  2.3811963178718667\n"
          ],
          "name": "stdout"
        }
      ]
    },
    {
      "cell_type": "markdown",
      "metadata": {
        "id": "Y4i9GUoLCym0"
      },
      "source": [
        "## b."
      ]
    },
    {
      "cell_type": "code",
      "metadata": {
        "id": "ucbg0RvQEOAK",
        "colab": {
          "base_uri": "https://localhost:8080/"
        },
        "outputId": "4e4701c8-09cd-4413-ead8-1dceaea4808d"
      },
      "source": [
        "data = pd.read_csv(\"mydataset.csv\")\n",
        "\n",
        "for i in data:\n",
        "  if data[i].dtype != object:\n",
        "    data[i] = data[i].fillna(0)\n",
        "\n",
        "\n",
        "X = data[[\"longitude\", \"latitude\", \"minimum_nights\", \"number_of_reviews\"]]\n",
        "Y = data[\"reviews_per_month\"]\n",
        "\n",
        "XTrain, XTest, YTrain, YTest = train_test_split(X, Y, test_size = 0.5, random_state = 2301869494)\n",
        "\n",
        "LRM = LinearRegression().fit(XTrain, YTrain)\n",
        "prediction = LRM.predict(XTest)\n",
        "print(prediction)\n",
        "print(\"\")\n",
        "\n",
        "theta = np.zeros(4)\n",
        "theta = LRM.coef_\n",
        "theta = np.insert(theta, 0, LRM.intercept_, axis = 0)\n",
        "\n",
        "for i, data in enumerate(theta):\n",
        "  print(\"Theta \", i, \":\", data)\n",
        "print(\"\")\n",
        "\n",
        "LRM.score(XTest, YTest)\n",
        "\n",
        "longitude = [ 139.71203, 139.82596, 139.65810, 139.65593, 139.65832]\n",
        "latitude = [ 35.67152, 35.71721, 35.74267, 35.66344, 35.74264]\n",
        "minimum_nights = [ 28, 3, 30, 29, 30]\n",
        "number_of_reviews = [ 18, 156, 107, 99 ,101]\n",
        "\n",
        "rpm = np.zeros(4)\n",
        "for i in range(4):\n",
        "  rpm[i] = theta[0] + theta[1] * minimum_nights[i] + theta[2] * number_of_reviews[i]\n",
        "  print(\"Reviews per Month \", i+1, \": \", rpm[i])\n",
        "\n",
        "print(\"\")\n",
        "\n",
        "print(\"R2  :\", r2_score(YTest, prediction))\n",
        "print(\"MAE :\", mean_absolute_error(YTest, prediction))\n",
        "print(\"MSE :\", mean_squared_error(YTest, prediction))\n"
      ],
      "execution_count": 122,
      "outputs": [
        {
          "output_type": "stream",
          "text": [
            "[2.19255988 4.21081463 1.9542689  ... 5.27075344 1.38616444 1.31907716]\n",
            "\n",
            "Theta  0 : -132.73032701154807\n",
            "Theta  1 : 0.8536583370836226\n",
            "Theta  2 : 0.4153730251709222\n",
            "Theta  3 : -0.02946368289206097\n",
            "Theta  4 : 0.024039997644136446\n",
            "\n",
            "Reviews per Month  1 :  -101.35117912013004\n",
            "Reviews per Month  2 :  -65.37116007363335\n",
            "Reviews per Month  3 :  -62.675663205750716\n",
            "Reviews per Month  4 :  -66.85230574420171\n",
            "\n",
            "R2  : 0.31145907773777237\n",
            "MAE : 1.0616226960110113\n",
            "MSE : 2.3740840189386065\n"
          ],
          "name": "stdout"
        }
      ]
    },
    {
      "cell_type": "markdown",
      "metadata": {
        "id": "4u3K1_UnQYew"
      },
      "source": [
        "Using too much variable can cause irrelevant data to be used."
      ]
    }
  ]
}